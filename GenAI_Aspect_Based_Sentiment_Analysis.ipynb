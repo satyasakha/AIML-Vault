{
 "cells": [
  {
   "cell_type": "markdown",
   "metadata": {
    "nteract": {
     "transient": {
      "deleting": false
     }
    }
   },
   "source": [
    "# **Project : A Case Study of InnovaTech Solutions**"
   ]
  },
  {
   "cell_type": "markdown",
   "metadata": {
    "nteract": {
     "transient": {
      "deleting": false
     }
    }
   },
   "source": [
    "**Business Overview:**\n",
    "\n",
    "InnovaTech Solutions, a dynamic and forward-thinking technology company, has made significant strides in the computing industry with a focus on developing high-quality laptops. Established over a decade ago, InnovaTech has gained a reputation for its innovative approach and commitment to customer satisfaction, creating a significant footprint in both physical and online retail spaces.\n",
    "InnovaTech has expanded its presence in the digital retail world, especially on e-commerce giants like Amazon. This strategic move has not only widened its customer base but also resulted in a large influx of customer feedback, primarily in the form of online reviews. The company's products, notably its range of laptops, have become popular choices on these platforms, leading to an abundance of valuable but underutilized customer data."
   ]
  },
  {
   "cell_type": "markdown",
   "metadata": {
    "nteract": {
     "transient": {
      "deleting": false
     }
    }
   },
   "source": [
    "**Current Challenge:**\n",
    "\n",
    "InnovaTech currently analyzes customer reviews using basic sentiment analysis tools, which only provide a superficial understanding of customer opinions. In the competitive landscape of the laptop market, a more detailed and aspect-oriented analysis is crucial. Understanding specific customer sentiments on different aspects of laptops, such as user screen, technical specifications, etc, which is vital for targeted product improvements."
   ]
  },
  {
   "cell_type": "markdown",
   "metadata": {
    "nteract": {
     "transient": {
      "deleting": false
     }
    }
   },
   "source": [
    "**Objective:**\n",
    "\n",
    "The primary goal is to conduct a comprehensive aspect-based sentiment analysis of customer reviews for InnovaTech’s laptops, specifically focusing on three critical aspects: the laptop screen, keyboard, and mousepad. These components have been identified as crucial determinants of customer satisfaction and product usability. Project aims to provide nuanced insights into specific areas of customer satisfaction, dissatisfaction, and neutral feedback.The ultimate goal is to enhance overall product quality and customer experience, solidifying InnovaTech's position as a leader in the laptop market.\n",
    "\n"
   ]
  },
  {
   "cell_type": "markdown",
   "metadata": {
    "nteract": {
     "transient": {
      "deleting": false
     }
    }
   },
   "source": [
    "**Data Description:**\n",
    "\n",
    "The dataset titled \"laptop_reviews.csv\" is structured to facilitate aspect-based sentiment analysis for laptop reviews. Here's a brief description of the data columns:\n",
    "\n",
    "1. id: This column contains unique identifiers for each review entry. It helps in distinguishing and referencing individual reviews\n",
    "2. text: This column includes the actual text of the laptop reviews. The reviews are likely composed of customer opinions and experiences regarding different aspects of the laptops.\n",
    "3. aspects:Contains structured information about specific aspects mentioned in each review like 'RAM', 'screen', 'keyboard', 'mousepad', and others relevant to laptop features.\n",
    "4. category:Provide an additional layer of classification (positive, negative and neutral) for the mentioned aspects."
   ]
  },
  {
   "cell_type": "markdown",
   "metadata": {
    "nteract": {
     "transient": {
      "deleting": false
     }
    }
   },
   "source": [
    "# 1. Setup"
   ]
  },
  {
   "cell_type": "markdown",
   "metadata": {
    "nteract": {
     "transient": {
      "deleting": false
     }
    }
   },
   "source": [
    "### 1.1 Installation"
   ]
  },
  {
   "cell_type": "code",
   "execution_count": 1,
   "metadata": {
    "collapsed": false,
    "jupyter": {
     "outputs_hidden": false,
     "source_hidden": false
    },
    "nteract": {
     "transient": {
      "deleting": false
     }
    }
   },
   "outputs": [],
   "source": [
    "# !pip install openai==0.28.0 tiktoken datasets session-info --quiet"
   ]
  },
  {
   "cell_type": "markdown",
   "metadata": {
    "nteract": {
     "transient": {
      "deleting": false
     }
    }
   },
   "source": [
    "### 1.2 Imports\n",
    "\n",
    "1. Import all Python packages required to access the Azure Open AI API.\n",
    "2. Import additional packages required to access datasets and create examples."
   ]
  },
  {
   "cell_type": "code",
   "execution_count": 2,
   "metadata": {
    "collapsed": false,
    "jupyter": {
     "outputs_hidden": false,
     "source_hidden": false
    },
    "nteract": {
     "transient": {
      "deleting": false
     }
    }
   },
   "outputs": [],
   "source": [
    "import openai\n",
    "import json\n",
    "import tiktoken\n",
    "import session_info\n",
    "\n",
    "import pandas as pd\n",
    "import numpy as np\n",
    "\n",
    "from datasets import load_dataset\n",
    "from collections import Counter\n",
    "from tqdm import tqdm\n",
    "from sklearn.model_selection import train_test_split"
   ]
  },
  {
   "cell_type": "markdown",
   "metadata": {
    "nteract": {
     "transient": {
      "deleting": false
     }
    }
   },
   "source": [
    "### 1.3 Authentication"
   ]
  },
  {
   "cell_type": "code",
   "execution_count": 3,
   "metadata": {
    "collapsed": false,
    "jupyter": {
     "outputs_hidden": false,
     "source_hidden": false
    },
    "nteract": {
     "transient": {
      "deleting": false
     }
    }
   },
   "outputs": [],
   "source": [
    "with open('config.json', 'r') as az_creds: # Read data from file\n",
    "    data = az_creds.read()"
   ]
  },
  {
   "cell_type": "code",
   "execution_count": 4,
   "metadata": {
    "collapsed": false,
    "jupyter": {
     "outputs_hidden": false,
     "source_hidden": false
    },
    "nteract": {
     "transient": {
      "deleting": false
     }
    }
   },
   "outputs": [
    {
     "name": "stdout",
     "output_type": "stream",
     "text": [
      "{'AZURE_OPENAI_KEY': '75a0343a8b6f463eba5c8f2862c6cb89', 'AZURE_OPENAI_ENDPOINT': 'https://satyaopenai23.openai.azure.com/', 'AZURE_OPENAI_APITYPE': 'azure', 'AZURE_OPENAI_APIVERSION': '2023-07-01-preview', 'CHATGPT_MODEL': 'satya23-deployment'}\n"
     ]
    }
   ],
   "source": [
    "creds = json.loads(data)\n",
    "print(creds)"
   ]
  },
  {
   "cell_type": "code",
   "execution_count": 5,
   "metadata": {
    "collapsed": false,
    "jupyter": {
     "outputs_hidden": false,
     "source_hidden": false
    },
    "nteract": {
     "transient": {
      "deleting": false
     }
    }
   },
   "outputs": [],
   "source": [
    "openai.api_key = creds[\"AZURE_OPENAI_KEY\"]\n",
    "openai.api_base = creds[\"AZURE_OPENAI_ENDPOINT\"]\n",
    "openai.api_type = creds[\"AZURE_OPENAI_APITYPE\"]\n",
    "openai.api_version = creds[\"AZURE_OPENAI_APIVERSION\"]"
   ]
  },
  {
   "cell_type": "code",
   "execution_count": 6,
   "metadata": {
    "collapsed": false,
    "jupyter": {
     "outputs_hidden": false,
     "source_hidden": false
    },
    "nteract": {
     "transient": {
      "deleting": false
     }
    }
   },
   "outputs": [],
   "source": [
    "chat_model_id = creds[\"CHATGPT_MODEL\"]"
   ]
  },
  {
   "cell_type": "markdown",
   "metadata": {
    "nteract": {
     "transient": {
      "deleting": false
     }
    }
   },
   "source": [
    "### 1.4 Utilities\n",
    "\n",
    "Define token counter to keep track of the completion window available in the prompt."
   ]
  },
  {
   "cell_type": "code",
   "execution_count": 7,
   "metadata": {
    "collapsed": false,
    "jupyter": {
     "outputs_hidden": false,
     "source_hidden": false
    },
    "nteract": {
     "transient": {
      "deleting": false
     }
    }
   },
   "outputs": [],
   "source": [
    "def num_tokens_from_messages(messages):\n",
    "    \n",
    "    \"\"\"\n",
    "    \n",
    "    Returns the number of tokens used by a list of messages.\n",
    "    \n",
    "    Args:\n",
    "        messages\n",
    "    \n",
    "    Output:\n",
    "        num_tokens (int): No.of tokens in the message\n",
    "    \n",
    "    Adapted from the OpenAI cookbook token counter.\n",
    "    \n",
    "    \"\"\"\n",
    "    encoding = tiktoken.encoding_for_model(\"gpt-3.5-turbo\")\n",
    "    \n",
    "    # Each message is sandwiched with <|start|>system or user or assistant {message} and <|end|>  \n",
    "    \n",
    "    tokens_per_message = 3 \n",
    "    \n",
    "    num_tokens = 0\n",
    "    \n",
    "    for message in messages:\n",
    "        num_tokens += tokens_per_message\n",
    "        for key, value in message.items():\n",
    "            num_tokens += len(encoding.encode(value))\n",
    "            \n",
    "    num_tokens += 3 # Every reply is primed with <|start|>assistant<|end|>\n",
    "    \n",
    "    return num_tokens"
   ]
  },
  {
   "cell_type": "markdown",
   "metadata": {
    "nteract": {
     "transient": {
      "deleting": false
     }
    }
   },
   "source": [
    "# Task: Aspect-Based Sentiment Analysis (ABSA)"
   ]
  },
  {
   "cell_type": "markdown",
   "metadata": {
    "nteract": {
     "transient": {
      "deleting": false
     }
    }
   },
   "source": [
    "### Step 1: Define objectives & Metrics\n",
    "\n",
    "To evaluate model performance, we judge the accuracy of the aspects + sentiment assignnment per aspect.For example, if aspects identified by the LLM do not match the ground truth for a specific input, we count this prediction to be incorrect. A correct prediction is one where all the aspects are correctly idenfied and further the sentiment assignment for each aspect is also correctly identified"
   ]
  },
  {
   "cell_type": "code",
   "execution_count": 8,
   "metadata": {},
   "outputs": [],
   "source": [
    "def parse_text(string):\n",
    "\n",
    "    result = {}\n",
    "    #Remove outermost {} and split by coma and \"\n",
    "    parts = string.strip('{}').split(', \"')\n",
    "\n",
    "    for part in parts:\n",
    "        split_index = part.find(' \": ')\n",
    "        if split_index == -1:\n",
    "            continue # skip if the format is not as expected\n",
    "        key = part[:split_index].strip('\"')\n",
    "        value =  part[split_index+3:].stip() # Removes white spaces in the string\n",
    "\n",
    "        if value.startswith('array(['):\n",
    "            value = value[7:] #Remove 'array(['\n",
    "            value = value.split('], dtype=object')[0] \n",
    "            value = value.strip('[\"]')\n",
    "    \n",
    "        result[key] = value\n",
    "        \n",
    "    return result"
   ]
  },
  {
   "cell_type": "code",
   "execution_count": 9,
   "metadata": {
    "collapsed": false,
    "jupyter": {
     "outputs_hidden": false,
     "source_hidden": false
    },
    "nteract": {
     "transient": {
      "deleting": false
     }
    }
   },
   "outputs": [],
   "source": [
    "def compute_accuracy(gold_examples, model_predictions, ground_truths):\n",
    "    \n",
    "     \"\"\"\n",
    "    Return the accuracy score comparing the model predictions and ground truth\n",
    "    for ABSA. We look for exact matches between the model predictions on all the\n",
    "    aspects and sentiments for these aspects in the ground truth.\n",
    "\n",
    "    Args:\n",
    "        gold_examples (str): JSON string with list of gold examples\n",
    "        model_predictions (List): Nested list of ABSA predictions\n",
    "        ground_truths (List): Nested list of ABSA annotations\n",
    "\n",
    "    Output:\n",
    "        accuracy (float): Exact matches of model predictions and ground truths\n",
    "    \"\"\"   \n",
    "    \n",
    "    correct_predictions = 0\n",
    "    total_predictions = len(gold_examples)\n",
    "    \n",
    "    for pred, truth in zip(model_predictions, ground_truths):\n",
    "        pred_dict = parse_text(pred)\n",
    "        truth_dict = parse_text(truth)\n",
    "        \n",
    "        if pred_dict == truth_dict:\n",
    "            correct_predictions += 1\n",
    "        \n",
    "    accuracy = correct_predictions / total_predictions\n",
    "    print(\"correct predictiosn : \", correct_predictions)\n",
    "    print(\"total predictions : \", total_predictions)\n",
    "    print(\"accuracy : \", accuracy)\n",
    "    return accuracy"
   ]
  },
  {
   "cell_type": "markdown",
   "metadata": {
    "nteract": {
     "transient": {
      "deleting": false
     }
    }
   },
   "source": [
    "### Step 2: Assemble Data\n",
    "\n",
    "1. Use \"laptop_review.csv\" dataset. \n",
    "2. Identify distribution of aspects in examples.\n",
    "3. Identify distribution of aspects in gold examples."
   ]
  },
  {
   "cell_type": "code",
   "execution_count": 10,
   "metadata": {
    "collapsed": false,
    "jupyter": {
     "outputs_hidden": false,
     "source_hidden": false
    },
    "nteract": {
     "transient": {
      "deleting": false
     }
    }
   },
   "outputs": [],
   "source": [
    "laptop_reviews_df = pd.read_csv(\"laptop_reviews.csv\")"
   ]
  },
  {
   "cell_type": "code",
   "execution_count": 40,
   "metadata": {},
   "outputs": [
    {
     "data": {
      "text/plain": [
       "(100, 4)"
      ]
     },
     "execution_count": 40,
     "metadata": {},
     "output_type": "execute_result"
    }
   ],
   "source": [
    "laptop_reviews_df.shape"
   ]
  },
  {
   "cell_type": "code",
   "execution_count": 41,
   "metadata": {},
   "outputs": [
    {
     "name": "stdout",
     "output_type": "stream",
     "text": [
      "<class 'pandas.core.frame.DataFrame'>\n",
      "RangeIndex: 100 entries, 0 to 99\n",
      "Data columns (total 4 columns):\n",
      " #   Column    Non-Null Count  Dtype \n",
      "---  ------    --------------  ----- \n",
      " 0   id        100 non-null    int64 \n",
      " 1   text      100 non-null    object\n",
      " 2   aspects   100 non-null    object\n",
      " 3   category  100 non-null    object\n",
      "dtypes: int64(1), object(3)\n",
      "memory usage: 3.2+ KB\n"
     ]
    }
   ],
   "source": [
    "laptop_reviews_df.info()"
   ]
  },
  {
   "cell_type": "code",
   "execution_count": 43,
   "metadata": {},
   "outputs": [
    {
     "data": {
      "text/plain": [
       "100"
      ]
     },
     "execution_count": 43,
     "metadata": {},
     "output_type": "execute_result"
    }
   ],
   "source": [
    "len(laptop_reviews_df)"
   ]
  },
  {
   "cell_type": "code",
   "execution_count": 11,
   "metadata": {},
   "outputs": [],
   "source": [
    "laptop_reviews_examples, laptop_reviews_gold_examples = train_test_split(\n",
    "    laptop_reviews_df,\n",
    "    test_size=0.2,\n",
    "    random_state = 42\n",
    ")"
   ]
  },
  {
   "cell_type": "code",
   "execution_count": 39,
   "metadata": {},
   "outputs": [
    {
     "data": {
      "text/plain": [
       "(80, 4)"
      ]
     },
     "execution_count": 39,
     "metadata": {},
     "output_type": "execute_result"
    }
   ],
   "source": [
    "laptop_reviews_examples.shape"
   ]
  },
  {
   "cell_type": "code",
   "execution_count": 12,
   "metadata": {},
   "outputs": [
    {
     "data": {
      "text/html": [
       "<div>\n",
       "<style scoped>\n",
       "    .dataframe tbody tr th:only-of-type {\n",
       "        vertical-align: middle;\n",
       "    }\n",
       "\n",
       "    .dataframe tbody tr th {\n",
       "        vertical-align: top;\n",
       "    }\n",
       "\n",
       "    .dataframe thead th {\n",
       "        text-align: right;\n",
       "    }\n",
       "</style>\n",
       "<table border=\"1\" class=\"dataframe\">\n",
       "  <thead>\n",
       "    <tr style=\"text-align: right;\">\n",
       "      <th></th>\n",
       "      <th>id</th>\n",
       "      <th>text</th>\n",
       "      <th>aspects</th>\n",
       "      <th>category</th>\n",
       "    </tr>\n",
       "  </thead>\n",
       "  <tbody>\n",
       "    <tr>\n",
       "      <th>89</th>\n",
       "      <td>90</td>\n",
       "      <td>The mousepad is adequate. The design is good. ...</td>\n",
       "      <td>{'term':array(['mousepad','design','screen','k...</td>\n",
       "      <td>{'category':array(['mousepad','design','screen...</td>\n",
       "    </tr>\n",
       "    <tr>\n",
       "      <th>97</th>\n",
       "      <td>98</td>\n",
       "      <td>The software is excellent. The mousepad is dis...</td>\n",
       "      <td>{'term':array(['software','mousepad','GPU'],dt...</td>\n",
       "      <td>{'category':array(['software','mousepad','GPU'...</td>\n",
       "    </tr>\n",
       "    <tr>\n",
       "      <th>6</th>\n",
       "      <td>7</td>\n",
       "      <td>The software is average. The RAM is disappoint...</td>\n",
       "      <td>{'term':array(['software','RAM'],dtype=object)...</td>\n",
       "      <td>{'category':array(['software','RAM'],dtype=obj...</td>\n",
       "    </tr>\n",
       "    <tr>\n",
       "      <th>99</th>\n",
       "      <td>100</td>\n",
       "      <td>The mousepad is good. The GPU is fair. The key...</td>\n",
       "      <td>{'term':array(['mousepad','GPU','keyboard'],dt...</td>\n",
       "      <td>{'category':array(['mousepad','GPU','keyboard'...</td>\n",
       "    </tr>\n",
       "    <tr>\n",
       "      <th>61</th>\n",
       "      <td>62</td>\n",
       "      <td>The mousepad is poor. The camera is unpleasant.</td>\n",
       "      <td>{'term':array(['mousepad','camera'],dtype=obje...</td>\n",
       "      <td>{'category':array(['mousepad','camera'],dtype=...</td>\n",
       "    </tr>\n",
       "    <tr>\n",
       "      <th>78</th>\n",
       "      <td>79</td>\n",
       "      <td>The screen is unpleasant. The camera is impres...</td>\n",
       "      <td>{'term':array(['screen','camera','keyboard','d...</td>\n",
       "      <td>{'category':array(['screen','camera','keyboard...</td>\n",
       "    </tr>\n",
       "    <tr>\n",
       "      <th>63</th>\n",
       "      <td>64</td>\n",
       "      <td>The design is adequate. The camera is terrible.</td>\n",
       "      <td>{'term':array(['design','camera'],dtype=object...</td>\n",
       "      <td>{'category':array(['design','camera'],dtype=ob...</td>\n",
       "    </tr>\n",
       "    <tr>\n",
       "      <th>69</th>\n",
       "      <td>70</td>\n",
       "      <td>The camera is standard. The GPU is great. The ...</td>\n",
       "      <td>{'term':array(['camera','GPU','hardware','scre...</td>\n",
       "      <td>{'category':array(['camera','GPU','hardware','...</td>\n",
       "    </tr>\n",
       "    <tr>\n",
       "      <th>95</th>\n",
       "      <td>96</td>\n",
       "      <td>The camera is terrible. The hardware is adequa...</td>\n",
       "      <td>{'term':array(['camera','hardware','mousepad']...</td>\n",
       "      <td>{'category':array(['camera','hardware','mousep...</td>\n",
       "    </tr>\n",
       "    <tr>\n",
       "      <th>28</th>\n",
       "      <td>29</td>\n",
       "      <td>The battery is bad. The keyboard is bad. The s...</td>\n",
       "      <td>{'term':array(['battery','keyboard','screen'],...</td>\n",
       "      <td>{'category':array(['battery','keyboard','scree...</td>\n",
       "    </tr>\n",
       "  </tbody>\n",
       "</table>\n",
       "</div>"
      ],
      "text/plain": [
       "     id                                               text  \\\n",
       "89   90  The mousepad is adequate. The design is good. ...   \n",
       "97   98  The software is excellent. The mousepad is dis...   \n",
       "6     7  The software is average. The RAM is disappoint...   \n",
       "99  100  The mousepad is good. The GPU is fair. The key...   \n",
       "61   62    The mousepad is poor. The camera is unpleasant.   \n",
       "78   79  The screen is unpleasant. The camera is impres...   \n",
       "63   64    The design is adequate. The camera is terrible.   \n",
       "69   70  The camera is standard. The GPU is great. The ...   \n",
       "95   96  The camera is terrible. The hardware is adequa...   \n",
       "28   29  The battery is bad. The keyboard is bad. The s...   \n",
       "\n",
       "                                              aspects  \\\n",
       "89  {'term':array(['mousepad','design','screen','k...   \n",
       "97  {'term':array(['software','mousepad','GPU'],dt...   \n",
       "6   {'term':array(['software','RAM'],dtype=object)...   \n",
       "99  {'term':array(['mousepad','GPU','keyboard'],dt...   \n",
       "61  {'term':array(['mousepad','camera'],dtype=obje...   \n",
       "78  {'term':array(['screen','camera','keyboard','d...   \n",
       "63  {'term':array(['design','camera'],dtype=object...   \n",
       "69  {'term':array(['camera','GPU','hardware','scre...   \n",
       "95  {'term':array(['camera','hardware','mousepad']...   \n",
       "28  {'term':array(['battery','keyboard','screen'],...   \n",
       "\n",
       "                                             category  \n",
       "89  {'category':array(['mousepad','design','screen...  \n",
       "97  {'category':array(['software','mousepad','GPU'...  \n",
       "6   {'category':array(['software','RAM'],dtype=obj...  \n",
       "99  {'category':array(['mousepad','GPU','keyboard'...  \n",
       "61  {'category':array(['mousepad','camera'],dtype=...  \n",
       "78  {'category':array(['screen','camera','keyboard...  \n",
       "63  {'category':array(['design','camera'],dtype=ob...  \n",
       "69  {'category':array(['camera','GPU','hardware','...  \n",
       "95  {'category':array(['camera','hardware','mousep...  \n",
       "28  {'category':array(['battery','keyboard','scree...  "
      ]
     },
     "execution_count": 12,
     "metadata": {},
     "output_type": "execute_result"
    }
   ],
   "source": [
    "laptop_reviews_examples.sample(10)"
   ]
  },
  {
   "cell_type": "code",
   "execution_count": 13,
   "metadata": {},
   "outputs": [
    {
     "data": {
      "text/html": [
       "<div>\n",
       "<style scoped>\n",
       "    .dataframe tbody tr th:only-of-type {\n",
       "        vertical-align: middle;\n",
       "    }\n",
       "\n",
       "    .dataframe tbody tr th {\n",
       "        vertical-align: top;\n",
       "    }\n",
       "\n",
       "    .dataframe thead th {\n",
       "        text-align: right;\n",
       "    }\n",
       "</style>\n",
       "<table border=\"1\" class=\"dataframe\">\n",
       "  <thead>\n",
       "    <tr style=\"text-align: right;\">\n",
       "      <th></th>\n",
       "      <th>id</th>\n",
       "      <th>text</th>\n",
       "      <th>aspects</th>\n",
       "      <th>category</th>\n",
       "    </tr>\n",
       "  </thead>\n",
       "  <tbody>\n",
       "    <tr>\n",
       "      <th>80</th>\n",
       "      <td>81</td>\n",
       "      <td>The camera is amazing. The RAM is fair. The ba...</td>\n",
       "      <td>{'term':array(['camera','RAM','battery','mouse...</td>\n",
       "      <td>{'category':array(['camera','RAM','battery','m...</td>\n",
       "    </tr>\n",
       "    <tr>\n",
       "      <th>44</th>\n",
       "      <td>45</td>\n",
       "      <td>The RAM is fair. The GPU is good. The screen i...</td>\n",
       "      <td>{'term':array(['RAM','GPU','screen'],dtype=obj...</td>\n",
       "      <td>{'category':array(['RAM','GPU','screen'],dtype...</td>\n",
       "    </tr>\n",
       "    <tr>\n",
       "      <th>33</th>\n",
       "      <td>34</td>\n",
       "      <td>The camera is adequate. The battery is standard.</td>\n",
       "      <td>{'term':array(['camera','battery'],dtype=objec...</td>\n",
       "      <td>{'category':array(['camera','battery'],dtype=o...</td>\n",
       "    </tr>\n",
       "    <tr>\n",
       "      <th>70</th>\n",
       "      <td>71</td>\n",
       "      <td>The keyboard is standard. The RAM is disappoin...</td>\n",
       "      <td>{'term':array(['keyboard','RAM'],dtype=object)...</td>\n",
       "      <td>{'category':array(['keyboard','RAM'],dtype=obj...</td>\n",
       "    </tr>\n",
       "    <tr>\n",
       "      <th>31</th>\n",
       "      <td>32</td>\n",
       "      <td>The screen is excellent. The GPU is standard. ...</td>\n",
       "      <td>{'term':array(['screen','GPU','hardware','soft...</td>\n",
       "      <td>{'category':array(['screen','GPU','hardware','...</td>\n",
       "    </tr>\n",
       "    <tr>\n",
       "      <th>77</th>\n",
       "      <td>78</td>\n",
       "      <td>The battery is average. The mousepad is disapp...</td>\n",
       "      <td>{'term':array(['battery','mousepad'],dtype=obj...</td>\n",
       "      <td>{'category':array(['battery','mousepad'],dtype...</td>\n",
       "    </tr>\n",
       "    <tr>\n",
       "      <th>53</th>\n",
       "      <td>54</td>\n",
       "      <td>The screen is great. The software is bad.</td>\n",
       "      <td>{'term':array(['screen','software'],dtype=obje...</td>\n",
       "      <td>{'category':array(['screen','software'],dtype=...</td>\n",
       "    </tr>\n",
       "    <tr>\n",
       "      <th>18</th>\n",
       "      <td>19</td>\n",
       "      <td>The battery is decent. The RAM is terrible. Th...</td>\n",
       "      <td>{'term':array(['battery','RAM','mousepad'],dty...</td>\n",
       "      <td>{'category':array(['battery','RAM','mousepad']...</td>\n",
       "    </tr>\n",
       "    <tr>\n",
       "      <th>45</th>\n",
       "      <td>46</td>\n",
       "      <td>The design is adequate. The keyboard is bad.</td>\n",
       "      <td>{'term':array(['design','keyboard'],dtype=obje...</td>\n",
       "      <td>{'category':array(['design','keyboard'],dtype=...</td>\n",
       "    </tr>\n",
       "    <tr>\n",
       "      <th>4</th>\n",
       "      <td>5</td>\n",
       "      <td>The GPU is terrible. The keyboard is poor. The...</td>\n",
       "      <td>{'term':array(['GPU','keyboard','mousepad'],dt...</td>\n",
       "      <td>{'category':array(['GPU','keyboard','mousepad'...</td>\n",
       "    </tr>\n",
       "  </tbody>\n",
       "</table>\n",
       "</div>"
      ],
      "text/plain": [
       "    id                                               text  \\\n",
       "80  81  The camera is amazing. The RAM is fair. The ba...   \n",
       "44  45  The RAM is fair. The GPU is good. The screen i...   \n",
       "33  34   The camera is adequate. The battery is standard.   \n",
       "70  71  The keyboard is standard. The RAM is disappoin...   \n",
       "31  32  The screen is excellent. The GPU is standard. ...   \n",
       "77  78  The battery is average. The mousepad is disapp...   \n",
       "53  54          The screen is great. The software is bad.   \n",
       "18  19  The battery is decent. The RAM is terrible. Th...   \n",
       "45  46       The design is adequate. The keyboard is bad.   \n",
       "4    5  The GPU is terrible. The keyboard is poor. The...   \n",
       "\n",
       "                                              aspects  \\\n",
       "80  {'term':array(['camera','RAM','battery','mouse...   \n",
       "44  {'term':array(['RAM','GPU','screen'],dtype=obj...   \n",
       "33  {'term':array(['camera','battery'],dtype=objec...   \n",
       "70  {'term':array(['keyboard','RAM'],dtype=object)...   \n",
       "31  {'term':array(['screen','GPU','hardware','soft...   \n",
       "77  {'term':array(['battery','mousepad'],dtype=obj...   \n",
       "53  {'term':array(['screen','software'],dtype=obje...   \n",
       "18  {'term':array(['battery','RAM','mousepad'],dty...   \n",
       "45  {'term':array(['design','keyboard'],dtype=obje...   \n",
       "4   {'term':array(['GPU','keyboard','mousepad'],dt...   \n",
       "\n",
       "                                             category  \n",
       "80  {'category':array(['camera','RAM','battery','m...  \n",
       "44  {'category':array(['RAM','GPU','screen'],dtype...  \n",
       "33  {'category':array(['camera','battery'],dtype=o...  \n",
       "70  {'category':array(['keyboard','RAM'],dtype=obj...  \n",
       "31  {'category':array(['screen','GPU','hardware','...  \n",
       "77  {'category':array(['battery','mousepad'],dtype...  \n",
       "53  {'category':array(['screen','software'],dtype=...  \n",
       "18  {'category':array(['battery','RAM','mousepad']...  \n",
       "45  {'category':array(['design','keyboard'],dtype=...  \n",
       "4   {'category':array(['GPU','keyboard','mousepad'...  "
      ]
     },
     "execution_count": 13,
     "metadata": {},
     "output_type": "execute_result"
    }
   ],
   "source": [
    "laptop_reviews_gold_examples.sample(10)"
   ]
  },
  {
   "cell_type": "code",
   "execution_count": 14,
   "metadata": {},
   "outputs": [
    {
     "data": {
      "text/plain": [
       "\"{'category':array(['battery','RAM','software','GPU'],dtype=object),'polarity':array(['neutral','neutral','neutral','neutral'],dtype=object)}\""
      ]
     },
     "execution_count": 14,
     "metadata": {},
     "output_type": "execute_result"
    }
   ],
   "source": [
    "laptop_reviews_examples.iloc[0]['category']"
   ]
  },
  {
   "cell_type": "code",
   "execution_count": 15,
   "metadata": {},
   "outputs": [],
   "source": [
    "examples_aspect_index = {\n",
    "    'screen' : [],\n",
    "    'keyboard' : [],\n",
    "    'mousepad' : []\n",
    "}\n",
    "\n",
    "gold_examples_aspect_index = {\n",
    "    'screen' : [],\n",
    "    'keyboard' : [],\n",
    "    'mousepad' : []\n",
    "}"
   ]
  },
  {
   "cell_type": "code",
   "execution_count": 16,
   "metadata": {},
   "outputs": [],
   "source": [
    "for id, category in zip(laptop_reviews_examples.id, laptop_reviews_examples.category):\n",
    "    for key in examples_aspect_index.keys():\n",
    "        if key in category:\n",
    "            examples_aspect_index[key].append(id)"
   ]
  },
  {
   "cell_type": "code",
   "execution_count": null,
   "metadata": {},
   "outputs": [],
   "source": []
  },
  {
   "cell_type": "code",
   "execution_count": 17,
   "metadata": {},
   "outputs": [],
   "source": [
    "for id, category in zip(laptop_reviews_gold_examples.id, laptop_reviews_gold_examples.category):\n",
    "    for key in examples_aspect_index.keys():\n",
    "        if key in category:\n",
    "            gold_examples_aspect_index[key].append(id)"
   ]
  },
  {
   "cell_type": "code",
   "execution_count": 18,
   "metadata": {},
   "outputs": [
    {
     "data": {
      "text/plain": [
       "{'screen': [54, 45, 91, 77, 32],\n",
       " 'keyboard': [71, 46, 5],\n",
       " 'mousepad': [40, 81, 11, 19, 74, 91, 5, 77, 78, 13]}"
      ]
     },
     "execution_count": 18,
     "metadata": {},
     "output_type": "execute_result"
    }
   ],
   "source": [
    "gold_examples_aspect_index"
   ]
  },
  {
   "cell_type": "code",
   "execution_count": null,
   "metadata": {},
   "outputs": [],
   "source": []
  },
  {
   "cell_type": "code",
   "execution_count": 19,
   "metadata": {},
   "outputs": [],
   "source": [
    "columns_to_select = ['id', 'text', 'category']"
   ]
  },
  {
   "cell_type": "code",
   "execution_count": 20,
   "metadata": {},
   "outputs": [],
   "source": [
    "gold_examples = json.loads((\n",
    "    laptop_reviews_gold_examples.loc[:, columns_to_select]\n",
    "                                .sample(20, random_state=42)\n",
    "                                .to_json(orient='records')\n",
    "))"
   ]
  },
  {
   "cell_type": "code",
   "execution_count": 21,
   "metadata": {},
   "outputs": [
    {
     "data": {
      "text/plain": [
       "{'id': 84,\n",
       " 'text': 'The GPU is excellent. The hardware is fair. The RAM is adequate. The software is bad.',\n",
       " 'category': \"{'category':array(['GPU','hardware','RAM','software'],dtype=object),'polarity':array(['positive','neutral','neutral','negative'],dtype=object)}\"}"
      ]
     },
     "execution_count": 21,
     "metadata": {},
     "output_type": "execute_result"
    }
   ],
   "source": [
    "gold_examples[0]"
   ]
  },
  {
   "cell_type": "markdown",
   "metadata": {
    "nteract": {
     "transient": {
      "deleting": false
     }
    }
   },
   "source": [
    "### Step 3: Derive Prompt"
   ]
  },
  {
   "cell_type": "markdown",
   "metadata": {
    "nteract": {
     "transient": {
      "deleting": false
     }
    }
   },
   "source": [
    "#### Create prompts"
   ]
  },
  {
   "cell_type": "code",
   "execution_count": 22,
   "metadata": {},
   "outputs": [],
   "source": [
    "user_message_template = \"\"\"```{laptop_review}```\"\"\""
   ]
  },
  {
   "cell_type": "markdown",
   "metadata": {
    "nteract": {
     "transient": {
      "deleting": false
     }
    }
   },
   "source": [
    "**1. Zero-shot prompt**"
   ]
  },
  {
   "cell_type": "code",
   "execution_count": 23,
   "metadata": {
    "collapsed": false,
    "jupyter": {
     "outputs_hidden": false,
     "source_hidden": false
    },
    "nteract": {
     "transient": {
      "deleting": false
     }
    }
   },
   "outputs": [],
   "source": [
    "zero_shot_system_message = \"\"\"\n",
    "Perform aspect based sentiment analysis on laptop reviews presented in the input delimited by triple backticks, that is, ```.\n",
    "In each review there might be one or more of the following aspects: screen, keyboard, mousepad.\n",
    "For each review presented as input:\n",
    "- Identify if there are any of the 3 aspects (screen, keyboard, mousepad) present in the review.\n",
    "- Assign a sentiment polarity (positive, negative or neutral) for each aspect\n",
    "\n",
    "Arrange your response a JSON object with the following headers:\n",
    "- category:[list of aspects]\n",
    "- polarity:[list of corresponding polarities for each aspect]}\n",
    "\"\"\""
   ]
  },
  {
   "cell_type": "code",
   "execution_count": 24,
   "metadata": {},
   "outputs": [],
   "source": [
    "zero_shot_prompt = [{'role':'system', 'content': zero_shot_system_message}]"
   ]
  },
  {
   "cell_type": "code",
   "execution_count": 25,
   "metadata": {},
   "outputs": [
    {
     "data": {
      "text/plain": [
       "129"
      ]
     },
     "execution_count": 25,
     "metadata": {},
     "output_type": "execute_result"
    }
   ],
   "source": [
    "num_tokens_from_messages(zero_shot_prompt)"
   ]
  },
  {
   "cell_type": "markdown",
   "metadata": {
    "nteract": {
     "transient": {
      "deleting": false
     }
    }
   },
   "source": [
    "**2.Few-shot prompt**"
   ]
  },
  {
   "cell_type": "code",
   "execution_count": 26,
   "metadata": {
    "collapsed": false,
    "jupyter": {
     "outputs_hidden": false,
     "source_hidden": false
    },
    "nteract": {
     "transient": {
      "deleting": false
     }
    }
   },
   "outputs": [],
   "source": [
    "few_shot_system_message = \"\"\"\n",
    "Perform aspect based sentiment analysis on laptop reviews presented in the input delimited by triple backticks, that is, ```.\n",
    "In each review there might be one or more of the following aspects: screen, keyboard, mousepad.\n",
    "For each review presented as input:\n",
    "- Identify if there are any of the 3 aspects (screen, keyboard, mousepad) present in the review.\n",
    "- Assign a sentiment polarity (positive, negative or neutral) for each aspect\n",
    "\n",
    "Arrange your response a JSON object with the following headers:\n",
    "{category:[list of aspects]\n",
    "polarity:[list of corresponding polarities for each aspect]}\n",
    "\"\"\""
   ]
  },
  {
   "cell_type": "code",
   "execution_count": 27,
   "metadata": {},
   "outputs": [],
   "source": [
    "def create_examples(dataset, n=4):\n",
    "    \n",
    "    \"\"\"\n",
    "    Return a JSON list of randomized examples.\n",
    "    Create subsets of each class, choose random samples from the subsets,\n",
    "    merge and randomize the order of samples in the merged list.\n",
    "    Each run of this function creates a different random sample of examples\n",
    "    chosen from the training data.\n",
    "\n",
    "    Args:\n",
    "        dataset (DataFrame): A DataFrame with examples\n",
    "        n (int): number of examples of each class to be selected\n",
    "\n",
    "    Output:\n",
    "        randomized_examples (JSON): A JSON with examples in random order\n",
    "    \"\"\"\n",
    "    \n",
    "    columns_to_select = ['id', 'text', 'category']\n",
    "    example_ids = []\n",
    "\n",
    "    aspect_index = {\n",
    "        'keyboard' : [], 'screen' : [], 'mousepad' : []\n",
    "    }\n",
    "\n",
    "    for id, category in zip(dataset.id, dataset.category):\n",
    "        for key in aspect_index.keys():\n",
    "            if key in category:\n",
    "                aspect_index[key].append(id)\n",
    "\n",
    "    for key in aspect_index:\n",
    "        example_ids.extend(np.random.choice(aspect_index[key], n).tolist())\n",
    "\n",
    "    examples = dataset.loc[dataset.id.isin(example_ids), columns_to_select]\n",
    "\n",
    "    return examples.to_json(orient='records')"
   ]
  },
  {
   "cell_type": "code",
   "execution_count": 28,
   "metadata": {},
   "outputs": [],
   "source": [
    "def create_prompt(system_message, examples, user_message_template):\n",
    "    \n",
    "    \"\"\"\n",
    "    Return a prompt message in the format expected by the Open AI API.\n",
    "    Loop through the examples and parse them as user message and assistant\n",
    "    message.\n",
    "\n",
    "    Args:\n",
    "        system_message (str): system message with instructions for sentiment analysis\n",
    "        examples (str): JSON string with list of examples\n",
    "        user_message_template (str): string with a placeholder for movie reviews\n",
    "\n",
    "    Output:\n",
    "        few_shot_prompt (List): A list of dictionaries in the Open AI prompt format\n",
    "    \"\"\"\n",
    "    \n",
    "    few_shot_prompt = [{'role' : 'system', 'content' : system_message}]\n",
    "\n",
    "    for example in json.loads(examples):\n",
    "        example_input = example['text']\n",
    "        example_absa = example['category']\n",
    "\n",
    "        few_shot_prompt.append(\n",
    "            {\n",
    "                'role' : 'user',\n",
    "                'content' : user_message_template.format(\n",
    "                    laptop_review=example_input\n",
    "                )\n",
    "            }\n",
    "        )\n",
    "\n",
    "        few_shot_prompt.append(\n",
    "            {'role' : 'assistant', 'content' : f\"{example_absa}\"}\n",
    "        )\n",
    "\n",
    "    return few_shot_prompt"
   ]
  },
  {
   "cell_type": "code",
   "execution_count": 29,
   "metadata": {},
   "outputs": [],
   "source": [
    "examples = create_examples(laptop_reviews_df)\n",
    "few_shot_prompt = create_prompt(few_shot_system_message, examples, user_message_template)"
   ]
  },
  {
   "cell_type": "code",
   "execution_count": 30,
   "metadata": {},
   "outputs": [
    {
     "name": "stdout",
     "output_type": "stream",
     "text": [
      "[{\"id\":13,\"text\":\"The battery is unpleasant. The mousepad is terrible. The hardware is standard.\",\"category\":\"{'category':array(['battery','mousepad','hardware'],dtype=object),'polarity':array(['negative','negative','neutral'],dtype=object)}\"},{\"id\":18,\"text\":\"The GPU is poor. The camera is bad. The software is average. The keyboard is bad.\",\"category\":\"{'category':array(['GPU','camera','software','keyboard'],dtype=object),'polarity':array(['negative','negative','neutral','negative'],dtype=object)}\"},{\"id\":28,\"text\":\"The screen is adequate. The GPU is disappointing. The hardware is disappointing. The keyboard is excellent.\",\"category\":\"{'category':array(['screen','GPU','hardware','keyboard'],dtype=object),'polarity':array(['neutral','negative','negative','positive'],dtype=object)}\"},{\"id\":29,\"text\":\"The battery is bad. The keyboard is bad. The screen is great.\",\"category\":\"{'category':array(['battery','keyboard','screen'],dtype=object),'polarity':array(['negative','negative','positive'],dtype=object)}\"},{\"id\":33,\"text\":\"The camera is decent. The screen is disappointing. The software is decent.\",\"category\":\"{'category':array(['camera','screen','software'],dtype=object),'polarity':array(['neutral','negative','neutral'],dtype=object)}\"},{\"id\":36,\"text\":\"The GPU is great. The mousepad is poor. The screen is good.\",\"category\":\"{'category':array(['GPU','mousepad','screen'],dtype=object),'polarity':array(['positive','negative','positive'],dtype=object)}\"},{\"id\":51,\"text\":\"The camera is terrible. The keyboard is fair. The screen is adequate.\",\"category\":\"{'category':array(['camera','keyboard','screen'],dtype=object),'polarity':array(['negative','neutral','neutral'],dtype=object)}\"},{\"id\":77,\"text\":\"The mousepad is unpleasant. The screen is bad.\",\"category\":\"{'category':array(['mousepad','screen'],dtype=object),'polarity':array(['negative','negative'],dtype=object)}\"},{\"id\":80,\"text\":\"The battery is impressive. The keyboard is fair. The hardware is average.\",\"category\":\"{'category':array(['battery','keyboard','hardware'],dtype=object),'polarity':array(['positive','neutral','neutral'],dtype=object)}\"},{\"id\":89,\"text\":\"The screen is excellent. The hardware is poor. The battery is excellent.\",\"category\":\"{'category':array(['screen','hardware','battery'],dtype=object),'polarity':array(['positive','negative','positive'],dtype=object)}\"},{\"id\":90,\"text\":\"The mousepad is adequate. The design is good. The screen is good. The keyboard is standard.\",\"category\":\"{'category':array(['mousepad','design','screen','keyboard'],dtype=object),'polarity':array(['neutral','positive','positive','neutral'],dtype=object)}\"},{\"id\":92,\"text\":\"The RAM is good. The keyboard is unpleasant. The mousepad is adequate.\",\"category\":\"{'category':array(['RAM','keyboard','mousepad'],dtype=object),'polarity':array(['positive','negative','neutral'],dtype=object)}\"}]\n"
     ]
    }
   ],
   "source": [
    "print(examples)"
   ]
  },
  {
   "cell_type": "markdown",
   "metadata": {
    "nteract": {
     "transient": {
      "deleting": false
     }
    }
   },
   "source": [
    "#### Evaluate prompts"
   ]
  },
  {
   "cell_type": "markdown",
   "metadata": {
    "nteract": {
     "transient": {
      "deleting": false
     }
    }
   },
   "source": [
    "**1. Define Evaluation scorer**"
   ]
  },
  {
   "cell_type": "code",
   "execution_count": null,
   "metadata": {
    "collapsed": false,
    "jupyter": {
     "outputs_hidden": false,
     "source_hidden": false
    },
    "nteract": {
     "transient": {
      "deleting": false
     }
    }
   },
   "outputs": [],
   "source": []
  },
  {
   "cell_type": "code",
   "execution_count": 31,
   "metadata": {},
   "outputs": [],
   "source": [
    "def evaluate_prompt(prompt, gold_examples, user_message_template):\n",
    "    \n",
    "    \"\"\"\n",
    "    Return the accuracy score for predictions on gold examples.\n",
    "    For each example, we make a prediction using the prompt. Gold labels and\n",
    "    model predictions are aggregated into lists and compared to compute the\n",
    "    accuracy.\n",
    "\n",
    "    Args:\n",
    "        prompt (List): list of messages in the Open AI prompt format\n",
    "        gold_examples (str): JSON string with list of gold examples\n",
    "        user_message_template (str): string with a placeholder for movie reviews\n",
    "\n",
    "    Output:\n",
    "        accuracy (float): accuracy score computed by comparing model predictions\n",
    "                                with ground truth\n",
    "    \"\"\"\n",
    "    \n",
    "    model_predictions, ground_truths = [], []\n",
    "    \n",
    "\n",
    "    for example in gold_examples:\n",
    "        user_input = [{\n",
    "            'role': 'user',\n",
    "            'content': user_message_template.format(laptop_review=example['text'])\n",
    "        }]\n",
    "\n",
    "        try:\n",
    "            response = openai.ChatCompletion.create(\n",
    "                deployment_id=chat_model_id,\n",
    "                messages=prompt + user_input,\n",
    "                temperature=0\n",
    "            )\n",
    "            prediction = response['choices'][0]['message']['content']\n",
    "            prediction_dict_str = str(prediction).replace(\"'\", \"\\\"\")\n",
    "            model_predictions.append(prediction_dict_str.strip().lower())\n",
    "            ground_truth_str = str(example['category']).replace(\"'\", \"\\\"\")\n",
    "            ground_truths.append(ground_truth_str.strip().lower())\n",
    "\n",
    "        except Exception as e:\n",
    "            print(f\"Error during model prediction: {e}\")\n",
    "\n",
    "    accuracy = compute_accuracy(gold_examples, model_predictions, ground_truths)\n",
    "    return accuracy"
   ]
  },
  {
   "cell_type": "markdown",
   "metadata": {
    "nteract": {
     "transient": {
      "deleting": false
     }
    }
   },
   "source": [
    "**2. Evaluate zero shot prompt**"
   ]
  },
  {
   "cell_type": "code",
   "execution_count": 32,
   "metadata": {
    "collapsed": false,
    "jupyter": {
     "outputs_hidden": false,
     "source_hidden": false
    },
    "nteract": {
     "transient": {
      "deleting": false
     }
    }
   },
   "outputs": [
    {
     "name": "stdout",
     "output_type": "stream",
     "text": [
      "correct predictiosn :  20\n",
      "total predictions :  20\n",
      "accuracy :  1.0\n"
     ]
    },
    {
     "data": {
      "text/plain": [
       "1.0"
      ]
     },
     "execution_count": 32,
     "metadata": {},
     "output_type": "execute_result"
    }
   ],
   "source": [
    "evaluate_prompt(zero_shot_prompt, gold_examples, user_message_template)"
   ]
  },
  {
   "cell_type": "markdown",
   "metadata": {
    "nteract": {
     "transient": {
      "deleting": false
     }
    }
   },
   "source": [
    "**3. Evaluate few shot prompt**"
   ]
  },
  {
   "cell_type": "code",
   "execution_count": 33,
   "metadata": {
    "collapsed": false,
    "jupyter": {
     "outputs_hidden": false,
     "source_hidden": false
    },
    "nteract": {
     "transient": {
      "deleting": false
     }
    }
   },
   "outputs": [
    {
     "name": "stdout",
     "output_type": "stream",
     "text": [
      "correct predictiosn :  20\n",
      "total predictions :  20\n",
      "accuracy :  1.0\n"
     ]
    },
    {
     "data": {
      "text/plain": [
       "1.0"
      ]
     },
     "execution_count": 33,
     "metadata": {},
     "output_type": "execute_result"
    }
   ],
   "source": [
    "evaluate_prompt(few_shot_prompt, gold_examples, user_message_template)"
   ]
  },
  {
   "cell_type": "markdown",
   "metadata": {
    "nteract": {
     "transient": {
      "deleting": false
     }
    }
   },
   "source": [
    "**4. In summary, compute the average (mean) and measure the variability (standard deviation) of the evaluation scores.**"
   ]
  },
  {
   "cell_type": "code",
   "execution_count": 34,
   "metadata": {
    "collapsed": false,
    "jupyter": {
     "outputs_hidden": false,
     "source_hidden": false
    },
    "nteract": {
     "transient": {
      "deleting": false
     }
    }
   },
   "outputs": [],
   "source": [
    "num_eval_runs = 10"
   ]
  },
  {
   "cell_type": "code",
   "execution_count": 35,
   "metadata": {
    "collapsed": false,
    "jupyter": {
     "outputs_hidden": false,
     "source_hidden": false
    },
    "nteract": {
     "transient": {
      "deleting": false
     }
    }
   },
   "outputs": [],
   "source": [
    "few_shot_performance = []"
   ]
  },
  {
   "cell_type": "code",
   "execution_count": 36,
   "metadata": {},
   "outputs": [
    {
     "name": "stderr",
     "output_type": "stream",
     "text": [
      " 10%|█         | 1/10 [00:10<01:32, 10.29s/it]"
     ]
    },
    {
     "name": "stdout",
     "output_type": "stream",
     "text": [
      "correct predictiosn :  20\n",
      "total predictions :  20\n",
      "accuracy :  1.0\n"
     ]
    },
    {
     "name": "stderr",
     "output_type": "stream",
     "text": [
      " 20%|██        | 2/10 [00:20<01:20, 10.08s/it]"
     ]
    },
    {
     "name": "stdout",
     "output_type": "stream",
     "text": [
      "correct predictiosn :  20\n",
      "total predictions :  20\n",
      "accuracy :  1.0\n"
     ]
    },
    {
     "name": "stderr",
     "output_type": "stream",
     "text": [
      " 30%|███       | 3/10 [00:29<01:09,  9.92s/it]"
     ]
    },
    {
     "name": "stdout",
     "output_type": "stream",
     "text": [
      "correct predictiosn :  20\n",
      "total predictions :  20\n",
      "accuracy :  1.0\n"
     ]
    },
    {
     "name": "stderr",
     "output_type": "stream",
     "text": [
      " 40%|████      | 4/10 [00:39<00:58,  9.68s/it]"
     ]
    },
    {
     "name": "stdout",
     "output_type": "stream",
     "text": [
      "correct predictiosn :  20\n",
      "total predictions :  20\n",
      "accuracy :  1.0\n"
     ]
    },
    {
     "name": "stderr",
     "output_type": "stream",
     "text": [
      " 50%|█████     | 5/10 [00:48<00:48,  9.63s/it]"
     ]
    },
    {
     "name": "stdout",
     "output_type": "stream",
     "text": [
      "correct predictiosn :  20\n",
      "total predictions :  20\n",
      "accuracy :  1.0\n"
     ]
    },
    {
     "name": "stderr",
     "output_type": "stream",
     "text": [
      " 60%|██████    | 6/10 [00:59<00:39,  9.94s/it]"
     ]
    },
    {
     "name": "stdout",
     "output_type": "stream",
     "text": [
      "correct predictiosn :  20\n",
      "total predictions :  20\n",
      "accuracy :  1.0\n"
     ]
    },
    {
     "name": "stderr",
     "output_type": "stream",
     "text": [
      " 70%|███████   | 7/10 [01:09<00:29,  9.87s/it]"
     ]
    },
    {
     "name": "stdout",
     "output_type": "stream",
     "text": [
      "correct predictiosn :  20\n",
      "total predictions :  20\n",
      "accuracy :  1.0\n"
     ]
    },
    {
     "name": "stderr",
     "output_type": "stream",
     "text": [
      " 80%|████████  | 8/10 [01:18<00:19,  9.63s/it]"
     ]
    },
    {
     "name": "stdout",
     "output_type": "stream",
     "text": [
      "correct predictiosn :  20\n",
      "total predictions :  20\n",
      "accuracy :  1.0\n"
     ]
    },
    {
     "name": "stderr",
     "output_type": "stream",
     "text": [
      " 90%|█████████ | 9/10 [01:28<00:09,  9.69s/it]"
     ]
    },
    {
     "name": "stdout",
     "output_type": "stream",
     "text": [
      "correct predictiosn :  20\n",
      "total predictions :  20\n",
      "accuracy :  1.0\n"
     ]
    },
    {
     "name": "stderr",
     "output_type": "stream",
     "text": [
      "100%|██████████| 10/10 [01:38<00:00,  9.86s/it]"
     ]
    },
    {
     "name": "stdout",
     "output_type": "stream",
     "text": [
      "correct predictiosn :  20\n",
      "total predictions :  20\n",
      "accuracy :  1.0\n"
     ]
    },
    {
     "name": "stderr",
     "output_type": "stream",
     "text": [
      "\n"
     ]
    }
   ],
   "source": [
    "for _ in tqdm(range(num_eval_runs)):\n",
    "\n",
    "    # For each run create a new sample of examples\n",
    "    examples = create_examples(laptop_reviews_df)\n",
    "\n",
    "    # Assemble the few shot prompt with these examples\n",
    "    few_shot_prompt = create_prompt(few_shot_system_message, examples, user_message_template)\n",
    "\n",
    "    # Evaluate prompt accuracy on gold examples\n",
    "    few_shot_accuracy = evaluate_prompt(few_shot_prompt, gold_examples, user_message_template)\n",
    "\n",
    "    few_shot_performance.append(few_shot_accuracy)"
   ]
  },
  {
   "cell_type": "code",
   "execution_count": 37,
   "metadata": {},
   "outputs": [
    {
     "data": {
      "text/plain": [
       "(1.0, 0.0)"
      ]
     },
     "execution_count": 37,
     "metadata": {},
     "output_type": "execute_result"
    }
   ],
   "source": [
    "np.array(few_shot_performance).mean(), np.array(few_shot_performance).std()"
   ]
  },
  {
   "cell_type": "markdown",
   "metadata": {
    "nteract": {
     "transient": {
      "deleting": false
     }
    }
   },
   "source": [
    "**----------------------------------------------------------------------------End-----------------------------------------------------------------------------------------**"
   ]
  }
 ],
 "metadata": {
  "kernel_info": {
   "name": "python310-sdkv2"
  },
  "kernelspec": {
   "display_name": "Python 3 (ipykernel)",
   "language": "python",
   "name": "python3"
  },
  "language_info": {
   "codemirror_mode": {
    "name": "ipython",
    "version": 3
   },
   "file_extension": ".py",
   "mimetype": "text/x-python",
   "name": "python",
   "nbconvert_exporter": "python",
   "pygments_lexer": "ipython3",
   "version": "3.9.13"
  },
  "microsoft": {
   "ms_spell_check": {
    "ms_spell_check_language": "en"
   }
  },
  "nteract": {
   "version": "nteract-front-end@1.0.0"
  }
 },
 "nbformat": 4,
 "nbformat_minor": 4
}
